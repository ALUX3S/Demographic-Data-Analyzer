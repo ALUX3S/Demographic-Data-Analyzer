{
 "cells": [
  {
   "cell_type": "code",
   "execution_count": 1,
   "id": "573b0ed0-89de-4137-b0c5-e2b900618247",
   "metadata": {},
   "outputs": [],
   "source": [
    "import pandas as pd"
   ]
  },
  {
   "cell_type": "code",
   "execution_count": 2,
   "id": "246b676d-6790-4779-9f67-393f7ffbdca7",
   "metadata": {},
   "outputs": [],
   "source": [
    "df = pd.read_csv(\"data/adult.data.csv\", engine='python', na_values=['?'])"
   ]
  },
  {
   "cell_type": "code",
   "execution_count": 3,
   "id": "f626fbae-069e-4b33-8376-7722a5009c5e",
   "metadata": {},
   "outputs": [],
   "source": [
    "Q1 = df['race'].value_counts()"
   ]
  },
  {
   "cell_type": "code",
   "execution_count": 4,
   "id": "8b7f3bfb-1c79-48a8-89e7-c899428193dc",
   "metadata": {},
   "outputs": [
    {
     "data": {
      "text/plain": [
       "race\n",
       "White                 27816\n",
       "Black                  3124\n",
       "Asian-Pac-Islander     1039\n",
       "Amer-Indian-Eskimo      311\n",
       "Other                   271\n",
       "Name: count, dtype: int64"
      ]
     },
     "execution_count": 4,
     "metadata": {},
     "output_type": "execute_result"
    }
   ],
   "source": [
    "Q1"
   ]
  },
  {
   "cell_type": "code",
   "execution_count": 5,
   "id": "9f047483-623a-4528-afc6-96b585afa23f",
   "metadata": {},
   "outputs": [],
   "source": [
    "mask1 = df[df['sex'] == 'Male']"
   ]
  },
  {
   "cell_type": "code",
   "execution_count": 6,
   "id": "9c734c93-19b9-4ff0-a43f-c6c19f350cd9",
   "metadata": {},
   "outputs": [],
   "source": [
    "Q2 = round(mask1['age'].mean() , 1)"
   ]
  },
  {
   "cell_type": "code",
   "execution_count": 7,
   "id": "8b8932a0-dbc0-42a5-b0f3-9b273d48eb1b",
   "metadata": {},
   "outputs": [
    {
     "data": {
      "text/plain": [
       "np.float64(39.4)"
      ]
     },
     "execution_count": 7,
     "metadata": {},
     "output_type": "execute_result"
    }
   ],
   "source": [
    "Q2"
   ]
  },
  {
   "cell_type": "code",
   "execution_count": 8,
   "id": "c843e902-8362-4fe7-abee-cd6215531e32",
   "metadata": {},
   "outputs": [],
   "source": [
    "Q3 = round(sum(df['education'] == 'Bachelors') / len(df['education']) * 100 , 1)"
   ]
  },
  {
   "cell_type": "code",
   "execution_count": 9,
   "id": "4c5c64ba-b930-4914-8f61-e6d6caeeb133",
   "metadata": {},
   "outputs": [
    {
     "data": {
      "text/plain": [
       "16.4"
      ]
     },
     "execution_count": 9,
     "metadata": {},
     "output_type": "execute_result"
    }
   ],
   "source": [
    "Q3"
   ]
  },
  {
   "cell_type": "code",
   "execution_count": 10,
   "id": "2fc5750e-b774-4f54-b0bd-b8436443c383",
   "metadata": {},
   "outputs": [],
   "source": [
    "mask2 = (df['education'] == 'Bachelors') | (df['education'] == 'Masters') | (df['education'] == 'Doctorate')"
   ]
  },
  {
   "cell_type": "code",
   "execution_count": 11,
   "id": "2fbe5ab5-2f2a-4e21-9122-a89d97878cf9",
   "metadata": {},
   "outputs": [],
   "source": [
    "df1 = df[mask2]"
   ]
  },
  {
   "cell_type": "code",
   "execution_count": 12,
   "id": "6c38e9c5-4e7c-4f62-9527-1ebbe2eea57a",
   "metadata": {},
   "outputs": [],
   "source": [
    "Q4 = round(sum(df1['salary']  == '>50K') / len(df1['education']) * 100 , 1)"
   ]
  },
  {
   "cell_type": "code",
   "execution_count": 13,
   "id": "fcea4497-d3a1-493c-b544-82278b2c9746",
   "metadata": {},
   "outputs": [
    {
     "data": {
      "text/plain": [
       "46.5"
      ]
     },
     "execution_count": 13,
     "metadata": {},
     "output_type": "execute_result"
    }
   ],
   "source": [
    "Q4"
   ]
  },
  {
   "cell_type": "code",
   "execution_count": 14,
   "id": "ba9e4257-337a-427b-88ed-abc293490fdc",
   "metadata": {},
   "outputs": [],
   "source": [
    "df2 = df[~mask2]"
   ]
  },
  {
   "cell_type": "code",
   "execution_count": 15,
   "id": "00c8f3ad-85c2-44eb-92dd-bf69ce7db6e1",
   "metadata": {},
   "outputs": [],
   "source": [
    "Q5 = round(sum(df2['salary']  == '>50K') / len(df2['education']) * 100 , 1)"
   ]
  },
  {
   "cell_type": "code",
   "execution_count": 16,
   "id": "b7efcb16-bf38-4af3-a4eb-ac4adfc4f5c7",
   "metadata": {},
   "outputs": [
    {
     "data": {
      "text/plain": [
       "17.4"
      ]
     },
     "execution_count": 16,
     "metadata": {},
     "output_type": "execute_result"
    }
   ],
   "source": [
    "Q5"
   ]
  },
  {
   "cell_type": "code",
   "execution_count": 17,
   "id": "89554097-0119-40e0-ac62-5e24a2725620",
   "metadata": {},
   "outputs": [],
   "source": [
    "Q6 = df['hours-per-week'].min()"
   ]
  },
  {
   "cell_type": "code",
   "execution_count": 18,
   "id": "cf2c3e85-6167-4913-b3f5-e3a809c68ec9",
   "metadata": {},
   "outputs": [
    {
     "data": {
      "text/plain": [
       "np.int64(1)"
      ]
     },
     "execution_count": 18,
     "metadata": {},
     "output_type": "execute_result"
    }
   ],
   "source": [
    "Q6"
   ]
  },
  {
   "cell_type": "code",
   "execution_count": 19,
   "id": "0be83758-504a-4b6f-ba58-0664009464d8",
   "metadata": {},
   "outputs": [],
   "source": [
    "mask3 = (df['hours-per-week'] == 1)"
   ]
  },
  {
   "cell_type": "code",
   "execution_count": 20,
   "id": "3e5ca4f4-7456-499b-ac01-d7ef7c323691",
   "metadata": {},
   "outputs": [],
   "source": [
    "df3 = df[mask3]"
   ]
  },
  {
   "cell_type": "code",
   "execution_count": 21,
   "id": "ea58b1e0-4525-4243-9c4f-f03e8155c45f",
   "metadata": {},
   "outputs": [],
   "source": [
    "Q7 = sum(df3['salary']  == '>50K') / len(df3['hours-per-week']) * 100"
   ]
  },
  {
   "cell_type": "code",
   "execution_count": 22,
   "id": "532adcc9-e68f-464c-babd-5205421fc2bf",
   "metadata": {},
   "outputs": [
    {
     "data": {
      "text/plain": [
       "10.0"
      ]
     },
     "execution_count": 22,
     "metadata": {},
     "output_type": "execute_result"
    }
   ],
   "source": [
    "Q7"
   ]
  },
  {
   "cell_type": "code",
   "execution_count": 23,
   "id": "e053f995-fbb9-4060-9574-8c0b1aa9b5dd",
   "metadata": {},
   "outputs": [],
   "source": [
    "df4 = df[df['salary'] == '>50K']"
   ]
  },
  {
   "cell_type": "code",
   "execution_count": 24,
   "id": "8dcd0d2f-0bf8-4ee4-bfa0-cbac45e224b6",
   "metadata": {},
   "outputs": [],
   "source": [
    "df5 = df[df['salary'] == '<=50K']"
   ]
  },
  {
   "cell_type": "code",
   "execution_count": 25,
   "id": "383c0855-06bd-43ce-9d39-bab41f9beb09",
   "metadata": {},
   "outputs": [],
   "source": [
    "S4 = df4['native-country'].value_counts()"
   ]
  },
  {
   "cell_type": "code",
   "execution_count": 26,
   "id": "250392e2-bf05-4a8d-a32a-1a5606e035a2",
   "metadata": {},
   "outputs": [],
   "source": [
    "S5 = df5['native-country'].value_counts()"
   ]
  },
  {
   "cell_type": "code",
   "execution_count": 27,
   "id": "2cef9aeb-e0fe-4054-847b-088bdd66475a",
   "metadata": {},
   "outputs": [],
   "source": [
    "S3 = df['native-country'].value_counts()"
   ]
  },
  {
   "cell_type": "code",
   "execution_count": 28,
   "id": "b018ab57-8088-416b-a425-5c00fa842dbd",
   "metadata": {},
   "outputs": [],
   "source": [
    "df6 = pd.DataFrame(data=[S4,S5])"
   ]
  },
  {
   "cell_type": "code",
   "execution_count": 29,
   "id": "90014299-e142-4ebf-b568-1db5b83597da",
   "metadata": {},
   "outputs": [],
   "source": [
    "df7 = df6.T"
   ]
  },
  {
   "cell_type": "code",
   "execution_count": 30,
   "id": "d6daeb21-3f24-4474-94b9-7a9cb7dc12fd",
   "metadata": {},
   "outputs": [],
   "source": [
    "df7.columns=['>50K','<=50K']"
   ]
  },
  {
   "cell_type": "code",
   "execution_count": 31,
   "id": "ca74a922-ba83-4b69-b45e-a97333c985e9",
   "metadata": {},
   "outputs": [],
   "source": [
    "df7['%>50K']=df7['>50K']/(df7['>50K']+df7['<=50K'])*100"
   ]
  },
  {
   "cell_type": "code",
   "execution_count": 32,
   "id": "ede07bf1-522b-4639-96aa-4c49b73d8f60",
   "metadata": {},
   "outputs": [],
   "source": [
    "Q8_1 = df7['%>50K'].idxmax()"
   ]
  },
  {
   "cell_type": "code",
   "execution_count": 33,
   "id": "7b2e582d-020c-4315-8703-33a344078bea",
   "metadata": {},
   "outputs": [
    {
     "data": {
      "text/plain": [
       "'Iran'"
      ]
     },
     "execution_count": 33,
     "metadata": {},
     "output_type": "execute_result"
    }
   ],
   "source": [
    "Q8_1"
   ]
  },
  {
   "cell_type": "code",
   "execution_count": 34,
   "id": "972f6f6f-0ea4-4bb2-951e-fb88b4925590",
   "metadata": {},
   "outputs": [],
   "source": [
    "Q8_2 = round(df7['%>50K'].max() , 1)"
   ]
  },
  {
   "cell_type": "code",
   "execution_count": 35,
   "id": "a46690ea-8ef1-41b1-b673-7a22f962da65",
   "metadata": {
    "scrolled": true
   },
   "outputs": [
    {
     "data": {
      "text/plain": [
       "np.float64(41.9)"
      ]
     },
     "execution_count": 35,
     "metadata": {},
     "output_type": "execute_result"
    }
   ],
   "source": [
    "Q8_2"
   ]
  },
  {
   "cell_type": "code",
   "execution_count": 36,
   "id": "b69dda15-59e8-46ab-8fe6-940b78014c4d",
   "metadata": {},
   "outputs": [],
   "source": [
    "df8 = df[(df['salary']=='>50K')&(df['native-country']=='India')]"
   ]
  },
  {
   "cell_type": "code",
   "execution_count": 37,
   "id": "c395b282-4810-4aa1-95e2-c65536a3fbd1",
   "metadata": {},
   "outputs": [],
   "source": [
    "S9 = df8['occupation'].value_counts()"
   ]
  },
  {
   "cell_type": "code",
   "execution_count": 38,
   "id": "f91c5212-2973-4a62-baa0-ad539e22ce68",
   "metadata": {},
   "outputs": [],
   "source": [
    "Q9 = S9.idxmax()"
   ]
  },
  {
   "cell_type": "code",
   "execution_count": 39,
   "id": "769b767f-4fa6-4468-a20a-e55cf3dedd4d",
   "metadata": {},
   "outputs": [
    {
     "data": {
      "text/plain": [
       "'Prof-specialty'"
      ]
     },
     "execution_count": 39,
     "metadata": {},
     "output_type": "execute_result"
    }
   ],
   "source": [
    "Q9"
   ]
  },
  {
   "cell_type": "code",
   "execution_count": null,
   "id": "95fa21cc-e073-4035-bbac-6720966653c2",
   "metadata": {},
   "outputs": [],
   "source": []
  }
 ],
 "metadata": {
  "kernelspec": {
   "display_name": "Python 3 (ipykernel)",
   "language": "python",
   "name": "python3"
  },
  "language_info": {
   "codemirror_mode": {
    "name": "ipython",
    "version": 3
   },
   "file_extension": ".py",
   "mimetype": "text/x-python",
   "name": "python",
   "nbconvert_exporter": "python",
   "pygments_lexer": "ipython3",
   "version": "3.13.4"
  }
 },
 "nbformat": 4,
 "nbformat_minor": 5
}
