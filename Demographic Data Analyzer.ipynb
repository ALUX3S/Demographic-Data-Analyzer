{
 "cells": [
  {
   "cell_type": "code",
   "execution_count": 1,
   "id": "573b0ed0-89de-4137-b0c5-e2b900618247",
   "metadata": {},
   "outputs": [],
   "source": [
    "import numpy as np\n",
    "import pandas as pd"
   ]
  },
  {
   "cell_type": "code",
   "execution_count": 2,
   "id": "246b676d-6790-4779-9f67-393f7ffbdca7",
   "metadata": {},
   "outputs": [],
   "source": [
    "df = pd.read_csv(\"data/adult.data\", engine='python', sep=', ', header=None, na_values=['?'])"
   ]
  },
  {
   "cell_type": "code",
   "execution_count": 3,
   "id": "18d74a59-47e1-4907-9b36-e2f5ea044336",
   "metadata": {},
   "outputs": [],
   "source": [
    "df.columns = ['age','workclass','fnlwgt','education','education-num','marital-status','occupation','relationship','race','sex','capital-gain','capital-loss','hours-per-week','native-country','salary']"
   ]
  },
  {
   "cell_type": "code",
   "execution_count": 4,
   "id": "61a3b61d-760c-419c-b3e0-32214829201c",
   "metadata": {},
   "outputs": [
    {
     "data": {
      "text/html": [
       "<div>\n",
       "<style scoped>\n",
       "    .dataframe tbody tr th:only-of-type {\n",
       "        vertical-align: middle;\n",
       "    }\n",
       "\n",
       "    .dataframe tbody tr th {\n",
       "        vertical-align: top;\n",
       "    }\n",
       "\n",
       "    .dataframe thead th {\n",
       "        text-align: right;\n",
       "    }\n",
       "</style>\n",
       "<table border=\"1\" class=\"dataframe\">\n",
       "  <thead>\n",
       "    <tr style=\"text-align: right;\">\n",
       "      <th></th>\n",
       "      <th>age</th>\n",
       "      <th>workclass</th>\n",
       "      <th>fnlwgt</th>\n",
       "      <th>education</th>\n",
       "      <th>education-num</th>\n",
       "      <th>marital-status</th>\n",
       "      <th>occupation</th>\n",
       "      <th>relationship</th>\n",
       "      <th>race</th>\n",
       "      <th>sex</th>\n",
       "      <th>capital-gain</th>\n",
       "      <th>capital-loss</th>\n",
       "      <th>hours-per-week</th>\n",
       "      <th>native-country</th>\n",
       "      <th>salary</th>\n",
       "    </tr>\n",
       "  </thead>\n",
       "  <tbody>\n",
       "    <tr>\n",
       "      <th>0</th>\n",
       "      <td>39</td>\n",
       "      <td>State-gov</td>\n",
       "      <td>77516</td>\n",
       "      <td>Bachelors</td>\n",
       "      <td>13</td>\n",
       "      <td>Never-married</td>\n",
       "      <td>Adm-clerical</td>\n",
       "      <td>Not-in-family</td>\n",
       "      <td>White</td>\n",
       "      <td>Male</td>\n",
       "      <td>2174</td>\n",
       "      <td>0</td>\n",
       "      <td>40</td>\n",
       "      <td>United-States</td>\n",
       "      <td>&lt;=50K</td>\n",
       "    </tr>\n",
       "    <tr>\n",
       "      <th>1</th>\n",
       "      <td>50</td>\n",
       "      <td>Self-emp-not-inc</td>\n",
       "      <td>83311</td>\n",
       "      <td>Bachelors</td>\n",
       "      <td>13</td>\n",
       "      <td>Married-civ-spouse</td>\n",
       "      <td>Exec-managerial</td>\n",
       "      <td>Husband</td>\n",
       "      <td>White</td>\n",
       "      <td>Male</td>\n",
       "      <td>0</td>\n",
       "      <td>0</td>\n",
       "      <td>13</td>\n",
       "      <td>United-States</td>\n",
       "      <td>&lt;=50K</td>\n",
       "    </tr>\n",
       "    <tr>\n",
       "      <th>2</th>\n",
       "      <td>38</td>\n",
       "      <td>Private</td>\n",
       "      <td>215646</td>\n",
       "      <td>HS-grad</td>\n",
       "      <td>9</td>\n",
       "      <td>Divorced</td>\n",
       "      <td>Handlers-cleaners</td>\n",
       "      <td>Not-in-family</td>\n",
       "      <td>White</td>\n",
       "      <td>Male</td>\n",
       "      <td>0</td>\n",
       "      <td>0</td>\n",
       "      <td>40</td>\n",
       "      <td>United-States</td>\n",
       "      <td>&lt;=50K</td>\n",
       "    </tr>\n",
       "    <tr>\n",
       "      <th>3</th>\n",
       "      <td>53</td>\n",
       "      <td>Private</td>\n",
       "      <td>234721</td>\n",
       "      <td>11th</td>\n",
       "      <td>7</td>\n",
       "      <td>Married-civ-spouse</td>\n",
       "      <td>Handlers-cleaners</td>\n",
       "      <td>Husband</td>\n",
       "      <td>Black</td>\n",
       "      <td>Male</td>\n",
       "      <td>0</td>\n",
       "      <td>0</td>\n",
       "      <td>40</td>\n",
       "      <td>United-States</td>\n",
       "      <td>&lt;=50K</td>\n",
       "    </tr>\n",
       "    <tr>\n",
       "      <th>4</th>\n",
       "      <td>28</td>\n",
       "      <td>Private</td>\n",
       "      <td>338409</td>\n",
       "      <td>Bachelors</td>\n",
       "      <td>13</td>\n",
       "      <td>Married-civ-spouse</td>\n",
       "      <td>Prof-specialty</td>\n",
       "      <td>Wife</td>\n",
       "      <td>Black</td>\n",
       "      <td>Female</td>\n",
       "      <td>0</td>\n",
       "      <td>0</td>\n",
       "      <td>40</td>\n",
       "      <td>Cuba</td>\n",
       "      <td>&lt;=50K</td>\n",
       "    </tr>\n",
       "  </tbody>\n",
       "</table>\n",
       "</div>"
      ],
      "text/plain": [
       "   age         workclass  fnlwgt  education  education-num  \\\n",
       "0   39         State-gov   77516  Bachelors             13   \n",
       "1   50  Self-emp-not-inc   83311  Bachelors             13   \n",
       "2   38           Private  215646    HS-grad              9   \n",
       "3   53           Private  234721       11th              7   \n",
       "4   28           Private  338409  Bachelors             13   \n",
       "\n",
       "       marital-status         occupation   relationship   race     sex  \\\n",
       "0       Never-married       Adm-clerical  Not-in-family  White    Male   \n",
       "1  Married-civ-spouse    Exec-managerial        Husband  White    Male   \n",
       "2            Divorced  Handlers-cleaners  Not-in-family  White    Male   \n",
       "3  Married-civ-spouse  Handlers-cleaners        Husband  Black    Male   \n",
       "4  Married-civ-spouse     Prof-specialty           Wife  Black  Female   \n",
       "\n",
       "   capital-gain  capital-loss  hours-per-week native-country salary  \n",
       "0          2174             0              40  United-States  <=50K  \n",
       "1             0             0              13  United-States  <=50K  \n",
       "2             0             0              40  United-States  <=50K  \n",
       "3             0             0              40  United-States  <=50K  \n",
       "4             0             0              40           Cuba  <=50K  "
      ]
     },
     "execution_count": 4,
     "metadata": {},
     "output_type": "execute_result"
    }
   ],
   "source": [
    "df.head()"
   ]
  },
  {
   "cell_type": "code",
   "execution_count": 5,
   "id": "cb4d3f56-af69-4724-84d0-19be45a98dd2",
   "metadata": {},
   "outputs": [
    {
     "data": {
      "text/html": [
       "<div>\n",
       "<style scoped>\n",
       "    .dataframe tbody tr th:only-of-type {\n",
       "        vertical-align: middle;\n",
       "    }\n",
       "\n",
       "    .dataframe tbody tr th {\n",
       "        vertical-align: top;\n",
       "    }\n",
       "\n",
       "    .dataframe thead th {\n",
       "        text-align: right;\n",
       "    }\n",
       "</style>\n",
       "<table border=\"1\" class=\"dataframe\">\n",
       "  <thead>\n",
       "    <tr style=\"text-align: right;\">\n",
       "      <th></th>\n",
       "      <th>age</th>\n",
       "      <th>fnlwgt</th>\n",
       "      <th>education-num</th>\n",
       "      <th>capital-gain</th>\n",
       "      <th>capital-loss</th>\n",
       "      <th>hours-per-week</th>\n",
       "    </tr>\n",
       "  </thead>\n",
       "  <tbody>\n",
       "    <tr>\n",
       "      <th>count</th>\n",
       "      <td>32561.000000</td>\n",
       "      <td>3.256100e+04</td>\n",
       "      <td>32561.000000</td>\n",
       "      <td>32561.000000</td>\n",
       "      <td>32561.000000</td>\n",
       "      <td>32561.000000</td>\n",
       "    </tr>\n",
       "    <tr>\n",
       "      <th>mean</th>\n",
       "      <td>38.581647</td>\n",
       "      <td>1.897784e+05</td>\n",
       "      <td>10.080679</td>\n",
       "      <td>1077.648844</td>\n",
       "      <td>87.303830</td>\n",
       "      <td>40.437456</td>\n",
       "    </tr>\n",
       "    <tr>\n",
       "      <th>std</th>\n",
       "      <td>13.640433</td>\n",
       "      <td>1.055500e+05</td>\n",
       "      <td>2.572720</td>\n",
       "      <td>7385.292085</td>\n",
       "      <td>402.960219</td>\n",
       "      <td>12.347429</td>\n",
       "    </tr>\n",
       "    <tr>\n",
       "      <th>min</th>\n",
       "      <td>17.000000</td>\n",
       "      <td>1.228500e+04</td>\n",
       "      <td>1.000000</td>\n",
       "      <td>0.000000</td>\n",
       "      <td>0.000000</td>\n",
       "      <td>1.000000</td>\n",
       "    </tr>\n",
       "    <tr>\n",
       "      <th>25%</th>\n",
       "      <td>28.000000</td>\n",
       "      <td>1.178270e+05</td>\n",
       "      <td>9.000000</td>\n",
       "      <td>0.000000</td>\n",
       "      <td>0.000000</td>\n",
       "      <td>40.000000</td>\n",
       "    </tr>\n",
       "    <tr>\n",
       "      <th>50%</th>\n",
       "      <td>37.000000</td>\n",
       "      <td>1.783560e+05</td>\n",
       "      <td>10.000000</td>\n",
       "      <td>0.000000</td>\n",
       "      <td>0.000000</td>\n",
       "      <td>40.000000</td>\n",
       "    </tr>\n",
       "    <tr>\n",
       "      <th>75%</th>\n",
       "      <td>48.000000</td>\n",
       "      <td>2.370510e+05</td>\n",
       "      <td>12.000000</td>\n",
       "      <td>0.000000</td>\n",
       "      <td>0.000000</td>\n",
       "      <td>45.000000</td>\n",
       "    </tr>\n",
       "    <tr>\n",
       "      <th>max</th>\n",
       "      <td>90.000000</td>\n",
       "      <td>1.484705e+06</td>\n",
       "      <td>16.000000</td>\n",
       "      <td>99999.000000</td>\n",
       "      <td>4356.000000</td>\n",
       "      <td>99.000000</td>\n",
       "    </tr>\n",
       "  </tbody>\n",
       "</table>\n",
       "</div>"
      ],
      "text/plain": [
       "                age        fnlwgt  education-num  capital-gain  capital-loss  \\\n",
       "count  32561.000000  3.256100e+04   32561.000000  32561.000000  32561.000000   \n",
       "mean      38.581647  1.897784e+05      10.080679   1077.648844     87.303830   \n",
       "std       13.640433  1.055500e+05       2.572720   7385.292085    402.960219   \n",
       "min       17.000000  1.228500e+04       1.000000      0.000000      0.000000   \n",
       "25%       28.000000  1.178270e+05       9.000000      0.000000      0.000000   \n",
       "50%       37.000000  1.783560e+05      10.000000      0.000000      0.000000   \n",
       "75%       48.000000  2.370510e+05      12.000000      0.000000      0.000000   \n",
       "max       90.000000  1.484705e+06      16.000000  99999.000000   4356.000000   \n",
       "\n",
       "       hours-per-week  \n",
       "count    32561.000000  \n",
       "mean        40.437456  \n",
       "std         12.347429  \n",
       "min          1.000000  \n",
       "25%         40.000000  \n",
       "50%         40.000000  \n",
       "75%         45.000000  \n",
       "max         99.000000  "
      ]
     },
     "execution_count": 5,
     "metadata": {},
     "output_type": "execute_result"
    }
   ],
   "source": [
    "df.describe()"
   ]
  },
  {
   "cell_type": "code",
   "execution_count": 6,
   "id": "f4bd8cb3-441a-4765-b64f-300e8c5f92d1",
   "metadata": {},
   "outputs": [
    {
     "name": "stdout",
     "output_type": "stream",
     "text": [
      "<class 'pandas.core.frame.DataFrame'>\n",
      "RangeIndex: 32561 entries, 0 to 32560\n",
      "Data columns (total 15 columns):\n",
      " #   Column          Non-Null Count  Dtype \n",
      "---  ------          --------------  ----- \n",
      " 0   age             32561 non-null  int64 \n",
      " 1   workclass       30725 non-null  object\n",
      " 2   fnlwgt          32561 non-null  int64 \n",
      " 3   education       32561 non-null  object\n",
      " 4   education-num   32561 non-null  int64 \n",
      " 5   marital-status  32561 non-null  object\n",
      " 6   occupation      30718 non-null  object\n",
      " 7   relationship    32561 non-null  object\n",
      " 8   race            32561 non-null  object\n",
      " 9   sex             32561 non-null  object\n",
      " 10  capital-gain    32561 non-null  int64 \n",
      " 11  capital-loss    32561 non-null  int64 \n",
      " 12  hours-per-week  32561 non-null  int64 \n",
      " 13  native-country  31978 non-null  object\n",
      " 14  salary          32561 non-null  object\n",
      "dtypes: int64(6), object(9)\n",
      "memory usage: 3.7+ MB\n"
     ]
    }
   ],
   "source": [
    "df.info()"
   ]
  },
  {
   "cell_type": "code",
   "execution_count": 7,
   "id": "f626fbae-069e-4b33-8376-7722a5009c5e",
   "metadata": {},
   "outputs": [],
   "source": [
    "Q1 = df['race'].value_counts()"
   ]
  },
  {
   "cell_type": "code",
   "execution_count": 8,
   "id": "8b7f3bfb-1c79-48a8-89e7-c899428193dc",
   "metadata": {},
   "outputs": [
    {
     "data": {
      "text/plain": [
       "race\n",
       "White                 27816\n",
       "Black                  3124\n",
       "Asian-Pac-Islander     1039\n",
       "Amer-Indian-Eskimo      311\n",
       "Other                   271\n",
       "Name: count, dtype: int64"
      ]
     },
     "execution_count": 8,
     "metadata": {},
     "output_type": "execute_result"
    }
   ],
   "source": [
    "Q1"
   ]
  },
  {
   "cell_type": "code",
   "execution_count": 9,
   "id": "9f047483-623a-4528-afc6-96b585afa23f",
   "metadata": {},
   "outputs": [],
   "source": [
    "mask1 = df[df['sex'] == 'Male']"
   ]
  },
  {
   "cell_type": "code",
   "execution_count": 60,
   "id": "9c734c93-19b9-4ff0-a43f-c6c19f350cd9",
   "metadata": {},
   "outputs": [],
   "source": [
    "Q2 = round(mask1['age'].mean() , 1)"
   ]
  },
  {
   "cell_type": "code",
   "execution_count": 61,
   "id": "8b8932a0-dbc0-42a5-b0f3-9b273d48eb1b",
   "metadata": {},
   "outputs": [
    {
     "data": {
      "text/plain": [
       "np.float64(39.4)"
      ]
     },
     "execution_count": 61,
     "metadata": {},
     "output_type": "execute_result"
    }
   ],
   "source": [
    "Q2"
   ]
  },
  {
   "cell_type": "code",
   "execution_count": 56,
   "id": "c843e902-8362-4fe7-abee-cd6215531e32",
   "metadata": {},
   "outputs": [],
   "source": [
    "Q3 = round(sum(df['education'] == 'Bachelors') / len(df['education']) * 100 , 1)"
   ]
  },
  {
   "cell_type": "code",
   "execution_count": 57,
   "id": "4c5c64ba-b930-4914-8f61-e6d6caeeb133",
   "metadata": {},
   "outputs": [
    {
     "data": {
      "text/plain": [
       "16.4"
      ]
     },
     "execution_count": 57,
     "metadata": {},
     "output_type": "execute_result"
    }
   ],
   "source": [
    "Q3"
   ]
  },
  {
   "cell_type": "code",
   "execution_count": 14,
   "id": "2fc5750e-b774-4f54-b0bd-b8436443c383",
   "metadata": {},
   "outputs": [],
   "source": [
    "mask2 = (df['education'] == 'Bachelors') | (df['education'] == 'Masters') | (df['education'] == 'Doctorate')"
   ]
  },
  {
   "cell_type": "code",
   "execution_count": 16,
   "id": "2fbe5ab5-2f2a-4e21-9122-a89d97878cf9",
   "metadata": {},
   "outputs": [],
   "source": [
    "df1 = df[mask2]"
   ]
  },
  {
   "cell_type": "code",
   "execution_count": 58,
   "id": "6c38e9c5-4e7c-4f62-9527-1ebbe2eea57a",
   "metadata": {},
   "outputs": [],
   "source": [
    "Q4 = round(sum(df1['salary']  == '>50K') / len(df1['education']) * 100 , 1)"
   ]
  },
  {
   "cell_type": "code",
   "execution_count": 59,
   "id": "fcea4497-d3a1-493c-b544-82278b2c9746",
   "metadata": {},
   "outputs": [
    {
     "data": {
      "text/plain": [
       "46.5"
      ]
     },
     "execution_count": 59,
     "metadata": {},
     "output_type": "execute_result"
    }
   ],
   "source": [
    "Q4"
   ]
  },
  {
   "cell_type": "code",
   "execution_count": 19,
   "id": "ba9e4257-337a-427b-88ed-abc293490fdc",
   "metadata": {},
   "outputs": [],
   "source": [
    "df2 = df[~mask2]"
   ]
  },
  {
   "cell_type": "code",
   "execution_count": 62,
   "id": "00c8f3ad-85c2-44eb-92dd-bf69ce7db6e1",
   "metadata": {},
   "outputs": [],
   "source": [
    "Q5 = round(sum(df2['salary']  == '>50K') / len(df2['education']) * 100 , 1)"
   ]
  },
  {
   "cell_type": "code",
   "execution_count": 63,
   "id": "b7efcb16-bf38-4af3-a4eb-ac4adfc4f5c7",
   "metadata": {},
   "outputs": [
    {
     "data": {
      "text/plain": [
       "17.4"
      ]
     },
     "execution_count": 63,
     "metadata": {},
     "output_type": "execute_result"
    }
   ],
   "source": [
    "Q5"
   ]
  },
  {
   "cell_type": "code",
   "execution_count": 22,
   "id": "89554097-0119-40e0-ac62-5e24a2725620",
   "metadata": {},
   "outputs": [],
   "source": [
    "Q6 = df['hours-per-week'].min()"
   ]
  },
  {
   "cell_type": "code",
   "execution_count": 23,
   "id": "cf2c3e85-6167-4913-b3f5-e3a809c68ec9",
   "metadata": {},
   "outputs": [
    {
     "data": {
      "text/plain": [
       "np.int64(1)"
      ]
     },
     "execution_count": 23,
     "metadata": {},
     "output_type": "execute_result"
    }
   ],
   "source": [
    "Q6"
   ]
  },
  {
   "cell_type": "code",
   "execution_count": 24,
   "id": "0be83758-504a-4b6f-ba58-0664009464d8",
   "metadata": {},
   "outputs": [],
   "source": [
    "mask3 = (df['hours-per-week'] == 1)"
   ]
  },
  {
   "cell_type": "code",
   "execution_count": 25,
   "id": "3e5ca4f4-7456-499b-ac01-d7ef7c323691",
   "metadata": {},
   "outputs": [],
   "source": [
    "df3 = df[mask3]"
   ]
  },
  {
   "cell_type": "code",
   "execution_count": 26,
   "id": "ea58b1e0-4525-4243-9c4f-f03e8155c45f",
   "metadata": {},
   "outputs": [],
   "source": [
    "Q7 = sum(df3['salary']  == '>50K') / len(df3['hours-per-week']) * 100"
   ]
  },
  {
   "cell_type": "code",
   "execution_count": 27,
   "id": "532adcc9-e68f-464c-babd-5205421fc2bf",
   "metadata": {},
   "outputs": [
    {
     "data": {
      "text/plain": [
       "10.0"
      ]
     },
     "execution_count": 27,
     "metadata": {},
     "output_type": "execute_result"
    }
   ],
   "source": [
    "Q7"
   ]
  },
  {
   "cell_type": "code",
   "execution_count": 28,
   "id": "e053f995-fbb9-4060-9574-8c0b1aa9b5dd",
   "metadata": {},
   "outputs": [],
   "source": [
    "df4 = df[df['salary'] == '>50K']"
   ]
  },
  {
   "cell_type": "code",
   "execution_count": 29,
   "id": "8dcd0d2f-0bf8-4ee4-bfa0-cbac45e224b6",
   "metadata": {},
   "outputs": [],
   "source": [
    "df5 = df[df['salary'] == '<=50K']"
   ]
  },
  {
   "cell_type": "code",
   "execution_count": 30,
   "id": "383c0855-06bd-43ce-9d39-bab41f9beb09",
   "metadata": {},
   "outputs": [],
   "source": [
    "S4 = df4['native-country'].value_counts()"
   ]
  },
  {
   "cell_type": "code",
   "execution_count": 31,
   "id": "250392e2-bf05-4a8d-a32a-1a5606e035a2",
   "metadata": {},
   "outputs": [],
   "source": [
    "S5 = df5['native-country'].value_counts()"
   ]
  },
  {
   "cell_type": "code",
   "execution_count": 32,
   "id": "2cef9aeb-e0fe-4054-847b-088bdd66475a",
   "metadata": {},
   "outputs": [],
   "source": [
    "S3 = df['native-country'].value_counts()"
   ]
  },
  {
   "cell_type": "code",
   "execution_count": 33,
   "id": "b018ab57-8088-416b-a425-5c00fa842dbd",
   "metadata": {},
   "outputs": [],
   "source": [
    "df6 = pd.DataFrame(data=[S4,S5])"
   ]
  },
  {
   "cell_type": "code",
   "execution_count": 34,
   "id": "90014299-e142-4ebf-b568-1db5b83597da",
   "metadata": {},
   "outputs": [],
   "source": [
    "df7 = df6.T"
   ]
  },
  {
   "cell_type": "code",
   "execution_count": 35,
   "id": "d6daeb21-3f24-4474-94b9-7a9cb7dc12fd",
   "metadata": {},
   "outputs": [],
   "source": [
    "df7.columns=['>50K','<=50K']"
   ]
  },
  {
   "cell_type": "code",
   "execution_count": 36,
   "id": "ca74a922-ba83-4b69-b45e-a97333c985e9",
   "metadata": {},
   "outputs": [],
   "source": [
    "df7['%>50K']=df7['>50K']/(df7['>50K']+df7['<=50K'])*100"
   ]
  },
  {
   "cell_type": "code",
   "execution_count": 38,
   "id": "ede07bf1-522b-4639-96aa-4c49b73d8f60",
   "metadata": {},
   "outputs": [],
   "source": [
    "Q8_1 = df7['%>50K'].idxmax()"
   ]
  },
  {
   "cell_type": "code",
   "execution_count": 39,
   "id": "7b2e582d-020c-4315-8703-33a344078bea",
   "metadata": {},
   "outputs": [
    {
     "data": {
      "text/plain": [
       "'Iran'"
      ]
     },
     "execution_count": 39,
     "metadata": {},
     "output_type": "execute_result"
    }
   ],
   "source": [
    "Q8_1"
   ]
  },
  {
   "cell_type": "code",
   "execution_count": 66,
   "id": "972f6f6f-0ea4-4bb2-951e-fb88b4925590",
   "metadata": {},
   "outputs": [],
   "source": [
    "Q8_2 = round(df7['%>50K'].max() , 1)"
   ]
  },
  {
   "cell_type": "code",
   "execution_count": 67,
   "id": "a46690ea-8ef1-41b1-b673-7a22f962da65",
   "metadata": {
    "scrolled": true
   },
   "outputs": [
    {
     "data": {
      "text/plain": [
       "np.float64(41.9)"
      ]
     },
     "execution_count": 67,
     "metadata": {},
     "output_type": "execute_result"
    }
   ],
   "source": [
    "Q8_2"
   ]
  },
  {
   "cell_type": "code",
   "execution_count": 42,
   "id": "b69dda15-59e8-46ab-8fe6-940b78014c4d",
   "metadata": {},
   "outputs": [],
   "source": [
    "df8 = df[(df['salary']=='>50K')&(df['native-country']=='India')]"
   ]
  },
  {
   "cell_type": "code",
   "execution_count": 43,
   "id": "c395b282-4810-4aa1-95e2-c65536a3fbd1",
   "metadata": {},
   "outputs": [],
   "source": [
    "S9 = df8['occupation'].value_counts()"
   ]
  },
  {
   "cell_type": "code",
   "execution_count": 44,
   "id": "f91c5212-2973-4a62-baa0-ad539e22ce68",
   "metadata": {},
   "outputs": [],
   "source": [
    "Q9 = S9.idxmax()"
   ]
  },
  {
   "cell_type": "code",
   "execution_count": 45,
   "id": "769b767f-4fa6-4468-a20a-e55cf3dedd4d",
   "metadata": {},
   "outputs": [
    {
     "data": {
      "text/plain": [
       "'Prof-specialty'"
      ]
     },
     "execution_count": 45,
     "metadata": {},
     "output_type": "execute_result"
    }
   ],
   "source": [
    "Q9"
   ]
  },
  {
   "cell_type": "code",
   "execution_count": null,
   "id": "95fa21cc-e073-4035-bbac-6720966653c2",
   "metadata": {},
   "outputs": [],
   "source": []
  }
 ],
 "metadata": {
  "kernelspec": {
   "display_name": "Python 3 (ipykernel)",
   "language": "python",
   "name": "python3"
  },
  "language_info": {
   "codemirror_mode": {
    "name": "ipython",
    "version": 3
   },
   "file_extension": ".py",
   "mimetype": "text/x-python",
   "name": "python",
   "nbconvert_exporter": "python",
   "pygments_lexer": "ipython3",
   "version": "3.13.4"
  }
 },
 "nbformat": 4,
 "nbformat_minor": 5
}
